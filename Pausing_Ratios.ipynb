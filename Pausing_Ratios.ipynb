{
 "cells": [
  {
   "cell_type": "code",
   "execution_count": 1,
   "metadata": {},
   "outputs": [],
   "source": [
    "import iCLIP\n",
    "import pandas\n",
    "from CGAT import GTF, IOTools"
   ]
  },
  {
   "cell_type": "code",
   "execution_count": 2,
   "metadata": {},
   "outputs": [],
   "source": [
    "my_getter = iCLIP.make_getter(plus_wig=\"/fastdata/mbp15jdp/NUMA_ChIP/MRC5_polII_ChIP_mp/bwa.dir/MRC5_polII_ChIP_test.bw\")\n",
    "gtffile = IOTools.openFile(\"/home/mbp15jdp/devel/assorted_scripts/python_notebooks/geneset_1000_extension_filtered.gtf.gz\")\n",
    "gtf_iterator = GTF.iterator(gtffile)\n",
    "gene_iterator = GTF.flat_gene_iterator(gtf_iterator)"
   ]
  },
  {
   "cell_type": "code",
   "execution_count": 3,
   "metadata": {},
   "outputs": [],
   "source": [
    "def truncate_exon(exon, start, l, strand):\n",
    "    if strand==\"+\":\n",
    "        exon.end = min(exon.end, start+l)\n",
    "    else:\n",
    "        exon.start = max(exon.start, start-l)\n",
    "        \n",
    "    return exon\n",
    "\n",
    "def get_pausing_ratio(transcript, getter, promoter_up_extension=100, promoter_down_extension=300, gb_start=500, gb_down_extension=2000):\n",
    "    \n",
    "    strand = transcript[0].strand\n",
    "    \n",
    "    start = min(x.start for x in transcript)\n",
    "    end = max(x.end for x in transcript)\n",
    "    gene_length = end - start\n",
    "    \n",
    "    if strand ==\"+\":\n",
    "        transcript = [truncate_exon(exon, start, gb_down_extension, \"+\") for exon in transcript]\n",
    "        transcript = sorted(transcript, key=lambda x: x.start)\n",
    "        transcript[0].start = transcript[0].start - promoter_up_extension\n",
    "    else:\n",
    "        transcript = [truncate_exon(exon, end, gb_down_extension, \"-\") for exon in transcript]\n",
    "        transcript = sorted(transcript, key=lambda x: x.end)\n",
    "        transcript[-1].end = transcript[-1].end + promoter_up_extension\n",
    "          \n",
    "    gene_counts = iCLIP.count_transcript(transcript, getter)\n",
    "    gene_counts = gene_counts.sort_index()\n",
    "    \n",
    "    if gene_counts.sum() < 500:\n",
    "        return None\n",
    "    \n",
    "    start = min(x.start for x in transcript)\n",
    "    end = max(x.end for x in transcript)\n",
    "    gene_length = end - start\n",
    "    \n",
    "    if gene_length < 1000:\n",
    "        return None\n",
    "    \n",
    "    TSSR_counts = gene_counts[:(promoter_up_extension+promoter_down_extension)].sum()\n",
    "    TSSR_density = TSSR_counts/(promoter_up_extension+promoter_down_extension)\n",
    "    \n",
    "    GBC = gene_counts[gb_start:]\n",
    "    threshold =GBC.quantile(0.99)\n",
    "    GBC_filtered = GBC[GBC < threshold]\n",
    "    GBR_counts = GBC_filtered.sum()\n",
    "    \n",
    "    if GBR_counts == 0:\n",
    "        return None\n",
    "        \n",
    "    GBR_density = GBR_counts/(gene_length-gb_start)\n",
    "\n",
    "    pausing_ratio = TSSR_density/GBR_density\n",
    "\n",
    "    return pausing_ratio"
   ]
  },
  {
   "cell_type": "code",
   "execution_count": 4,
   "metadata": {},
   "outputs": [],
   "source": [
    "pausing_ratios = dict()\n",
    "gbr_density=dict()\n",
    "for gene in gene_iterator:\n",
    "    pausing_ratios[gene[0].gene_id] = get_pausing_ratio(gene, my_getter)"
   ]
  },
  {
   "cell_type": "code",
   "execution_count": 12,
   "metadata": {},
   "outputs": [
    {
     "data": {
      "text/plain": [
       "ENSG00000000003   NaN\n",
       "ENSG00000000005   NaN\n",
       "ENSG00000000938   NaN\n",
       "ENSG00000000971   NaN\n",
       "ENSG00000001497   NaN\n",
       "dtype: float64"
      ]
     },
     "execution_count": 12,
     "metadata": {},
     "output_type": "execute_result"
    }
   ],
   "source": [
    "pausing_ratio = pandas.Series(pausing_ratios)\n",
    "pausing_ratio.head()"
   ]
  },
  {
   "cell_type": "code",
   "execution_count": 13,
   "metadata": {},
   "outputs": [
    {
     "data": {
      "text/plain": [
       "<matplotlib.axes._subplots.AxesSubplot at 0x2aeda7e78fd0>"
      ]
     },
     "execution_count": 13,
     "metadata": {},
     "output_type": "execute_result"
    },
    {
     "data": {
      "image/png": "[encoded data removed]",
      "text/plain": [
       "<matplotlib.figure.Figure at 0x2aed55d42f50>"
      ]
     },
     "metadata": {},
     "output_type": "display_data"
    }
   ],
   "source": [
    "%matplotlib inline\n",
    "pandas.np.log2(pausing_ratio+.5).hist()"
   ]
  },
  {
   "cell_type": "code",
   "execution_count": 14,
   "metadata": {},
   "outputs": [],
   "source": [
    "pausing_ratio.to_csv(\"MRC5_RNApolII_Pausing_Ratios_hg38_1k_extension.csv\", sep=\"\\t\")"
   ]
  },
  {
   "cell_type": "code",
   "execution_count": null,
   "metadata": {},
   "outputs": [],
   "source": []
  }
 ],
 "metadata": {
  "kernelspec": {
   "display_name": "Python 2",
   "language": "python",
   "name": "python2"
  },
  "language_info": {
   "codemirror_mode": {
    "name": "ipython",
    "version": 2
   },
   "file_extension": ".py",
   "mimetype": "text/x-python",
   "name": "python",
   "nbconvert_exporter": "python",
   "pygments_lexer": "ipython2",
   "version": "2.7.12"
  }
 },
 "nbformat": 4,
 "nbformat_minor": 2
}
